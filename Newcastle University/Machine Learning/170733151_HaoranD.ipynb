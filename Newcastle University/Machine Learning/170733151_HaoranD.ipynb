{
 "cells": [
  {
   "cell_type": "markdown",
   "metadata": {},
   "source": [
    "# 1. Understanding the Data "
   ]
  },
  {
   "cell_type": "code",
   "execution_count": 53,
   "metadata": {},
   "outputs": [],
   "source": [
    "#please install the 'graphviz' not only in pip, but also in your computer\n",
    "#For example : in MacBook, use brew install graphviz\n",
    "import itertools\n",
    "import numpy as np\n",
    "import matplotlib.pyplot as plt\n",
    "from sklearn.metrics import confusion_matrix\n",
    "import pandas as pd\n",
    "from subprocess import call\n",
    "from sklearn.externals.six import StringIO\n",
    "import pydotplus\n",
    "from IPython.display import display\n",
    "import seaborn as sns\n",
    "from sklearn.model_selection import train_test_split\n",
    "import graphviz\n",
    "from sklearn.naive_bayes import GaussianNB\n",
    "from sklearn.linear_model import LogisticRegressionCV,LogisticRegression\n",
    "from sklearn.svm import SVC\n",
    "from sklearn.tree import DecisionTreeClassifier,export_graphviz\n",
    "from sklearn.ensemble import RandomForestClassifier,VotingClassifier\n",
    "from sklearn.model_selection import cross_val_score\n",
    "from sklearn.model_selection import GridSearchCV\n",
    "import time\n",
    "from sklearn.metrics import accuracy_score,f1_score\n",
    "import xgboost as xgb\n",
    "from sklearn.preprocessing import StandardScaler\n",
    "from sklearn.naive_bayes import GaussianNB\n",
    "from sklearn.model_selection import learning_curve, validation_curve\n",
    "from sklearn.tree import DecisionTreeRegressor\n",
    "from sklearn.model_selection import ShuffleSplit, train_test_split\n",
    "from sklearn.metrics import roc_curve, auc\n",
    "\n",
    "#from keras.models import Sequential\n",
    "#from keras.layers import Dense, Activation, Dropout\n",
    "#from keras.datasets import mnist\n",
    "#from keras.utils import np_utils\n",
    "\n",
    "%matplotlib inline"
   ]
  },
  {
   "cell_type": "code",
   "execution_count": 2,
   "metadata": {},
   "outputs": [
    {
     "name": "stdout",
     "output_type": "stream",
     "text": [
      "(891, 12)\n",
      "(418, 12)\n"
     ]
    }
   ],
   "source": [
    "#Load the data\n",
    "train_raw_data_path = './train.csv'\n",
    "test_raw_data_path = './test_gt.csv'\n",
    "\n",
    "train_raw_data_all = pd.read_csv(train_raw_data_path)\n",
    "test_raw_data_all = pd.read_csv(test_raw_data_path)\n",
    "\n",
    "\n",
    "#################################Raw data####################################\n",
    "raw_train_x_all = train_raw_data_all.drop('Survived', axis = 1)\n",
    "raw_train_y_all = train_raw_data_all['Survived']\n",
    "\n",
    "raw_test_x = train_raw_data_all.drop('Survived', axis = 1)\n",
    "raw_test_y = train_raw_data_all['Survived']\n",
    "\n",
    "raw_X_train, raw_X_valid, raw_y_train, raw_y_valid = train_test_split(raw_train_x_all, raw_train_y_all, test_size=0.2, shuffle=True, random_state=78)\n",
    "print(train_raw_data_all.shape)\n",
    "print(test_raw_data_all.shape)\n",
    "\n",
    "#display(train_raw_data_all)\n",
    "#display(train_raw_data_all)"
   ]
  },
  {
   "cell_type": "markdown",
   "metadata": {},
   "source": [
    "# 2. Data Preprocess"
   ]
  },
  {
   "cell_type": "code",
   "execution_count": 3,
   "metadata": {
    "scrolled": true
   },
   "outputs": [
    {
     "name": "stderr",
     "output_type": "stream",
     "text": [
      "/anaconda3/lib/python3.7/site-packages/pandas/core/indexing.py:189: SettingWithCopyWarning: \n",
      "A value is trying to be set on a copy of a slice from a DataFrame\n",
      "\n",
      "See the caveats in the documentation: http://pandas.pydata.org/pandas-docs/stable/indexing.html#indexing-view-versus-copy\n",
      "  self._setitem_with_indexer(indexer, value)\n"
     ]
    }
   ],
   "source": [
    "train_raw_data_all.fillna({'Age':train_raw_data_all['Age'].median(),'Fare':train_raw_data_all['Fare'].median(),'Embarked':train_raw_data_all['Embarked'].mode()[0]},inplace=True)\n",
    "train_raw_data_all.drop(['PassengerId'], axis=1, inplace = True)\n",
    "train_raw_data_all['CallWhat'] = train_raw_data_all['Name'].str.split(\", \", expand=True)[1].str.split(\".\", expand=True)[0]\n",
    "train_raw_data_all['FamilyN'] = train_raw_data_all ['SibSp'] + train_raw_data_all['Parch'] + 1\n",
    "train_raw_data_all['Alone'] = 1\n",
    "train_raw_data_all['Alone'].loc[train_raw_data_all['FamilyN'] > 1] = 0\n",
    "\n",
    "test_raw_data_all.fillna({'Age':test_raw_data_all['Age'].median(),'Fare':test_raw_data_all['Fare'].median(),'Embarked':test_raw_data_all['Embarked'].mode()[0]},inplace=True)\n",
    "test_raw_data_all.drop(['PassengerId'], axis=1, inplace = True)\n",
    "test_raw_data_all['CallWhat'] = test_raw_data_all['Name'].str.split(\", \", expand=True)[1].str.split(\".\", expand=True)[0]\n",
    "test_raw_data_all['FamilyN'] = test_raw_data_all ['SibSp'] + test_raw_data_all['Parch'] + 1\n",
    "test_raw_data_all['Alone'] = 1\n",
    "test_raw_data_all['Alone'].loc[test_raw_data_all['FamilyN'] > 1] = 0"
   ]
  },
  {
   "cell_type": "code",
   "execution_count": 4,
   "metadata": {},
   "outputs": [],
   "source": [
    "train_raw_data_all['FareR'] = pd.qcut(train_raw_data_all['Fare'], 4)\n",
    "train_raw_data_all['AgeR'] = pd.qcut(train_raw_data_all['Age'].astype(int), 5,duplicates='drop')\n",
    "test_raw_data_all['FareR'] = pd.qcut(test_raw_data_all['Fare'], 4)\n",
    "test_raw_data_all['AgeR'] = pd.qcut(test_raw_data_all['Age'].astype(int), 5, duplicates='drop')"
   ]
  },
  {
   "cell_type": "code",
   "execution_count": 5,
   "metadata": {},
   "outputs": [],
   "source": [
    "ticket = []\n",
    "for i in list(train_raw_data_all['Ticket']):\n",
    "    if not i.isdigit() :\n",
    "        ticket.append(i.replace(\".\",\"\").replace(\"/\",\"\").strip().split(' ')[0])\n",
    "    else:\n",
    "        ticket.append(\"X\")\n",
    "\n",
    "ticket_test = []\n",
    "for i in list(test_raw_data_all['Ticket']):\n",
    "    if not i.isdigit() :\n",
    "        ticket_test.append(i.replace(\".\",\"\").replace(\"/\",\"\").strip().split(' ')[0])\n",
    "    else:\n",
    "        ticket_test.append(\"X\")\n",
    "\n",
    "train_raw_data_all[\"Ticket\"] = ticket\n",
    "test_raw_data_all[\"Ticket\"] = ticket_test"
   ]
  },
  {
   "cell_type": "code",
   "execution_count": 6,
   "metadata": {},
   "outputs": [],
   "source": [
    "train_raw_data_all[\"CallWhat\"] = train_raw_data_all[\"CallWhat\"].replace(['Ms','Lady', 'the Countess','Countess','Mme','Capt', 'Col','Don', 'Dr', 'Major', \n",
    "                                            'Rev', 'Sir','Mlle', 'Jonkheer', 'Dona'], 'Little')\n",
    "test_raw_data_all[\"CallWhat\"] = test_raw_data_all[\"CallWhat\"].replace(['Ms','Lady', 'the Countess','Countess','Mme','Capt', 'Col','Don', 'Dr', 'Major', \n",
    "                                            'Rev', 'Sir','Mlle', 'Jonkheer', 'Dona'], 'Little')"
   ]
  },
  {
   "cell_type": "code",
   "execution_count": 7,
   "metadata": {},
   "outputs": [],
   "source": [
    "from sklearn.preprocessing import LabelEncoder\n",
    "\n",
    "\n",
    "\n",
    "label_maker = LabelEncoder()\n",
    "train_raw_data_all['Sex_label'] = label_maker.fit_transform(train_raw_data_all['Sex'])\n",
    "train_raw_data_all['Eb_label'] = label_maker.fit_transform(train_raw_data_all['Embarked'])\n",
    "train_raw_data_all['CW_label'] = label_maker.fit_transform(train_raw_data_all['CallWhat'])\n",
    "train_raw_data_all['AgeR_label'] = label_maker.fit_transform(train_raw_data_all['AgeR'])\n",
    "train_raw_data_all['FareR_label'] = label_maker.fit_transform(train_raw_data_all['FareR'])\n",
    "train_raw_data_all['Ticket_label'] = label_maker.fit_transform(train_raw_data_all['Ticket'])\n",
    "\n",
    "\n",
    "test_raw_data_all['Sex_label'] = label_maker.fit_transform(test_raw_data_all['Sex'])\n",
    "test_raw_data_all['Eb_label'] = label_maker.fit_transform(test_raw_data_all['Embarked'])\n",
    "test_raw_data_all['CW_label'] = label_maker.fit_transform(test_raw_data_all['CallWhat'])\n",
    "test_raw_data_all['AgeR_label'] = label_maker.fit_transform(test_raw_data_all['AgeR'])\n",
    "test_raw_data_all['FareR_label'] = label_maker.fit_transform(test_raw_data_all['FareR'])\n",
    "test_raw_data_all['Ticket_label'] = label_maker.fit_transform(test_raw_data_all['Ticket'])\n",
    "\n",
    "\n",
    "train_raw_data_all['Age'] = train_raw_data_all['Age'].astype(int)\n",
    "test_raw_data_all['Age'] = test_raw_data_all['Age'].astype(int)\n",
    "\n",
    "train_raw_data_all.drop(['Name','Sex','Cabin','CallWhat','FareR','AgeR','Embarked','Ticket','Parch','SibSp'], axis=1, inplace = True)\n",
    "test_raw_data_all.drop(['Name','Sex','Cabin','CallWhat','FareR','AgeR','Embarked','Ticket','Parch','SibSp'], axis=1, inplace = True)"
   ]
  },
  {
   "cell_type": "markdown",
   "metadata": {},
   "source": [
    "- Splite the data into modelling "
   ]
  },
  {
   "cell_type": "code",
   "execution_count": 8,
   "metadata": {},
   "outputs": [],
   "source": [
    "#train_raw_data_all.drop(['Name','Sex','Cabin','CallWhat','FareR','AgeR','Embarked'], axis=1, inplace = True)\n",
    "#test_raw_data_all.drop(['Name','Sex','Cabin','CallWhat','FareR','AgeR','Embarked'], axis=1, inplace = True)\n",
    "\n",
    "train_x_all = train_raw_data_all.drop('Survived', axis = 1)\n",
    "train_y_all = train_raw_data_all['Survived']\n",
    "\n",
    "test_x_all = test_raw_data_all.drop('Survived', axis = 1)\n",
    "test_y_all = test_raw_data_all['Survived']\n",
    "\n",
    "Real_predict = test_raw_data_all\n",
    "\n",
    "X_train, X_valid, y_train, y_valid = train_test_split(train_x_all, train_y_all, test_size=0.2, shuffle=True, random_state=78)\n",
    "\n",
    "###For xgboost\n",
    "X_train_xg = np.array(X_train)\n",
    "X_valid_xg = np.array(X_valid)\n",
    "y_train_xg = np.array(y_train)\n",
    "y_valid_xg = np.array(y_valid)\n",
    "X_test_xg = np.array(test_x_all)\n",
    "X_test_xg = np.array(test_y_all)"
   ]
  },
  {
   "cell_type": "code",
   "execution_count": 229,
   "metadata": {},
   "outputs": [],
   "source": [
    "#data_cor = train_raw_data_all.corr()\n",
    "#data_cor.style.background_gradient()"
   ]
  },
  {
   "cell_type": "markdown",
   "metadata": {},
   "source": [
    "# 3. Modelling---Sklearn"
   ]
  },
  {
   "cell_type": "markdown",
   "metadata": {},
   "source": [
    "### 3.1 LogisticRegression"
   ]
  },
  {
   "cell_type": "code",
   "execution_count": 36,
   "metadata": {
    "scrolled": true
   },
   "outputs": [
    {
     "name": "stderr",
     "output_type": "stream",
     "text": [
      "/anaconda3/lib/python3.7/site-packages/sklearn/linear_model/logistic.py:758: ConvergenceWarning: lbfgs failed to converge. Increase the number of iterations.\n",
      "  \"of iterations.\", ConvergenceWarning)\n",
      "/anaconda3/lib/python3.7/site-packages/sklearn/linear_model/logistic.py:758: ConvergenceWarning: lbfgs failed to converge. Increase the number of iterations.\n",
      "  \"of iterations.\", ConvergenceWarning)\n",
      "/anaconda3/lib/python3.7/site-packages/sklearn/linear_model/logistic.py:758: ConvergenceWarning: lbfgs failed to converge. Increase the number of iterations.\n",
      "  \"of iterations.\", ConvergenceWarning)\n",
      "/anaconda3/lib/python3.7/site-packages/sklearn/linear_model/logistic.py:758: ConvergenceWarning: lbfgs failed to converge. Increase the number of iterations.\n",
      "  \"of iterations.\", ConvergenceWarning)\n",
      "/anaconda3/lib/python3.7/site-packages/sklearn/linear_model/logistic.py:758: ConvergenceWarning: lbfgs failed to converge. Increase the number of iterations.\n",
      "  \"of iterations.\", ConvergenceWarning)\n",
      "/anaconda3/lib/python3.7/site-packages/sklearn/linear_model/logistic.py:758: ConvergenceWarning: lbfgs failed to converge. Increase the number of iterations.\n",
      "  \"of iterations.\", ConvergenceWarning)\n",
      "/anaconda3/lib/python3.7/site-packages/sklearn/linear_model/logistic.py:758: ConvergenceWarning: lbfgs failed to converge. Increase the number of iterations.\n",
      "  \"of iterations.\", ConvergenceWarning)\n",
      "/anaconda3/lib/python3.7/site-packages/sklearn/linear_model/logistic.py:758: ConvergenceWarning: lbfgs failed to converge. Increase the number of iterations.\n",
      "  \"of iterations.\", ConvergenceWarning)\n",
      "/anaconda3/lib/python3.7/site-packages/sklearn/linear_model/logistic.py:758: ConvergenceWarning: lbfgs failed to converge. Increase the number of iterations.\n",
      "  \"of iterations.\", ConvergenceWarning)\n",
      "/anaconda3/lib/python3.7/site-packages/sklearn/linear_model/logistic.py:758: ConvergenceWarning: lbfgs failed to converge. Increase the number of iterations.\n",
      "  \"of iterations.\", ConvergenceWarning)\n",
      "/anaconda3/lib/python3.7/site-packages/sklearn/linear_model/logistic.py:758: ConvergenceWarning: lbfgs failed to converge. Increase the number of iterations.\n",
      "  \"of iterations.\", ConvergenceWarning)\n",
      "/anaconda3/lib/python3.7/site-packages/sklearn/linear_model/logistic.py:758: ConvergenceWarning: lbfgs failed to converge. Increase the number of iterations.\n",
      "  \"of iterations.\", ConvergenceWarning)\n",
      "/anaconda3/lib/python3.7/site-packages/sklearn/linear_model/logistic.py:758: ConvergenceWarning: lbfgs failed to converge. Increase the number of iterations.\n",
      "  \"of iterations.\", ConvergenceWarning)\n",
      "/anaconda3/lib/python3.7/site-packages/sklearn/linear_model/logistic.py:758: ConvergenceWarning: lbfgs failed to converge. Increase the number of iterations.\n",
      "  \"of iterations.\", ConvergenceWarning)\n",
      "/anaconda3/lib/python3.7/site-packages/sklearn/linear_model/logistic.py:758: ConvergenceWarning: lbfgs failed to converge. Increase the number of iterations.\n",
      "  \"of iterations.\", ConvergenceWarning)\n",
      "/anaconda3/lib/python3.7/site-packages/sklearn/linear_model/logistic.py:758: ConvergenceWarning: lbfgs failed to converge. Increase the number of iterations.\n",
      "  \"of iterations.\", ConvergenceWarning)\n",
      "/anaconda3/lib/python3.7/site-packages/sklearn/linear_model/logistic.py:758: ConvergenceWarning: lbfgs failed to converge. Increase the number of iterations.\n",
      "  \"of iterations.\", ConvergenceWarning)\n",
      "/anaconda3/lib/python3.7/site-packages/sklearn/linear_model/logistic.py:758: ConvergenceWarning: lbfgs failed to converge. Increase the number of iterations.\n",
      "  \"of iterations.\", ConvergenceWarning)\n",
      "/anaconda3/lib/python3.7/site-packages/sklearn/linear_model/logistic.py:758: ConvergenceWarning: lbfgs failed to converge. Increase the number of iterations.\n",
      "  \"of iterations.\", ConvergenceWarning)\n",
      "/anaconda3/lib/python3.7/site-packages/sklearn/linear_model/logistic.py:758: ConvergenceWarning: lbfgs failed to converge. Increase the number of iterations.\n",
      "  \"of iterations.\", ConvergenceWarning)\n",
      "/anaconda3/lib/python3.7/site-packages/sklearn/linear_model/logistic.py:758: ConvergenceWarning: lbfgs failed to converge. Increase the number of iterations.\n",
      "  \"of iterations.\", ConvergenceWarning)\n",
      "/anaconda3/lib/python3.7/site-packages/sklearn/linear_model/logistic.py:758: ConvergenceWarning: lbfgs failed to converge. Increase the number of iterations.\n",
      "  \"of iterations.\", ConvergenceWarning)\n",
      "/anaconda3/lib/python3.7/site-packages/sklearn/linear_model/logistic.py:758: ConvergenceWarning: lbfgs failed to converge. Increase the number of iterations.\n",
      "  \"of iterations.\", ConvergenceWarning)\n",
      "/anaconda3/lib/python3.7/site-packages/sklearn/linear_model/logistic.py:758: ConvergenceWarning: lbfgs failed to converge. Increase the number of iterations.\n",
      "  \"of iterations.\", ConvergenceWarning)\n",
      "/anaconda3/lib/python3.7/site-packages/sklearn/linear_model/logistic.py:758: ConvergenceWarning: lbfgs failed to converge. Increase the number of iterations.\n",
      "  \"of iterations.\", ConvergenceWarning)\n",
      "/anaconda3/lib/python3.7/site-packages/sklearn/linear_model/logistic.py:758: ConvergenceWarning: lbfgs failed to converge. Increase the number of iterations.\n",
      "  \"of iterations.\", ConvergenceWarning)\n",
      "/anaconda3/lib/python3.7/site-packages/sklearn/linear_model/logistic.py:758: ConvergenceWarning: lbfgs failed to converge. Increase the number of iterations.\n",
      "  \"of iterations.\", ConvergenceWarning)\n",
      "/anaconda3/lib/python3.7/site-packages/sklearn/linear_model/logistic.py:758: ConvergenceWarning: lbfgs failed to converge. Increase the number of iterations.\n",
      "  \"of iterations.\", ConvergenceWarning)\n",
      "/anaconda3/lib/python3.7/site-packages/sklearn/linear_model/logistic.py:758: ConvergenceWarning: lbfgs failed to converge. Increase the number of iterations.\n",
      "  \"of iterations.\", ConvergenceWarning)\n",
      "/anaconda3/lib/python3.7/site-packages/sklearn/linear_model/logistic.py:758: ConvergenceWarning: lbfgs failed to converge. Increase the number of iterations.\n",
      "  \"of iterations.\", ConvergenceWarning)\n",
      "/anaconda3/lib/python3.7/site-packages/sklearn/linear_model/logistic.py:758: ConvergenceWarning: lbfgs failed to converge. Increase the number of iterations.\n",
      "  \"of iterations.\", ConvergenceWarning)\n",
      "/anaconda3/lib/python3.7/site-packages/sklearn/linear_model/logistic.py:758: ConvergenceWarning: lbfgs failed to converge. Increase the number of iterations.\n",
      "  \"of iterations.\", ConvergenceWarning)\n",
      "/anaconda3/lib/python3.7/site-packages/sklearn/linear_model/logistic.py:758: ConvergenceWarning: lbfgs failed to converge. Increase the number of iterations.\n",
      "  \"of iterations.\", ConvergenceWarning)\n",
      "/anaconda3/lib/python3.7/site-packages/sklearn/linear_model/logistic.py:758: ConvergenceWarning: lbfgs failed to converge. Increase the number of iterations.\n",
      "  \"of iterations.\", ConvergenceWarning)\n",
      "/anaconda3/lib/python3.7/site-packages/sklearn/linear_model/logistic.py:758: ConvergenceWarning: lbfgs failed to converge. Increase the number of iterations.\n",
      "  \"of iterations.\", ConvergenceWarning)\n",
      "/anaconda3/lib/python3.7/site-packages/sklearn/linear_model/logistic.py:758: ConvergenceWarning: lbfgs failed to converge. Increase the number of iterations.\n",
      "  \"of iterations.\", ConvergenceWarning)\n",
      "/anaconda3/lib/python3.7/site-packages/sklearn/linear_model/logistic.py:758: ConvergenceWarning: lbfgs failed to converge. Increase the number of iterations.\n",
      "  \"of iterations.\", ConvergenceWarning)\n",
      "/anaconda3/lib/python3.7/site-packages/sklearn/linear_model/logistic.py:758: ConvergenceWarning: lbfgs failed to converge. Increase the number of iterations.\n",
      "  \"of iterations.\", ConvergenceWarning)\n",
      "/anaconda3/lib/python3.7/site-packages/sklearn/linear_model/logistic.py:758: ConvergenceWarning: lbfgs failed to converge. Increase the number of iterations.\n",
      "  \"of iterations.\", ConvergenceWarning)\n",
      "/anaconda3/lib/python3.7/site-packages/sklearn/linear_model/logistic.py:758: ConvergenceWarning: lbfgs failed to converge. Increase the number of iterations.\n",
      "  \"of iterations.\", ConvergenceWarning)\n",
      "/anaconda3/lib/python3.7/site-packages/sklearn/linear_model/logistic.py:758: ConvergenceWarning: lbfgs failed to converge. Increase the number of iterations.\n",
      "  \"of iterations.\", ConvergenceWarning)\n",
      "/anaconda3/lib/python3.7/site-packages/sklearn/linear_model/logistic.py:758: ConvergenceWarning: lbfgs failed to converge. Increase the number of iterations.\n",
      "  \"of iterations.\", ConvergenceWarning)\n"
     ]
    },
    {
     "name": "stderr",
     "output_type": "stream",
     "text": [
      "/anaconda3/lib/python3.7/site-packages/sklearn/linear_model/logistic.py:758: ConvergenceWarning: lbfgs failed to converge. Increase the number of iterations.\n",
      "  \"of iterations.\", ConvergenceWarning)\n",
      "/anaconda3/lib/python3.7/site-packages/sklearn/linear_model/logistic.py:758: ConvergenceWarning: lbfgs failed to converge. Increase the number of iterations.\n",
      "  \"of iterations.\", ConvergenceWarning)\n",
      "/anaconda3/lib/python3.7/site-packages/sklearn/linear_model/logistic.py:758: ConvergenceWarning: lbfgs failed to converge. Increase the number of iterations.\n",
      "  \"of iterations.\", ConvergenceWarning)\n",
      "/anaconda3/lib/python3.7/site-packages/sklearn/linear_model/logistic.py:758: ConvergenceWarning: lbfgs failed to converge. Increase the number of iterations.\n",
      "  \"of iterations.\", ConvergenceWarning)\n",
      "/anaconda3/lib/python3.7/site-packages/sklearn/linear_model/logistic.py:758: ConvergenceWarning: lbfgs failed to converge. Increase the number of iterations.\n",
      "  \"of iterations.\", ConvergenceWarning)\n",
      "/anaconda3/lib/python3.7/site-packages/sklearn/linear_model/logistic.py:758: ConvergenceWarning: lbfgs failed to converge. Increase the number of iterations.\n",
      "  \"of iterations.\", ConvergenceWarning)\n"
     ]
    },
    {
     "name": "stdout",
     "output_type": "stream",
     "text": [
      "LR--Get Training the best model\n",
      "2.6343159675598145\n"
     ]
    },
    {
     "name": "stderr",
     "output_type": "stream",
     "text": [
      "/anaconda3/lib/python3.7/site-packages/sklearn/linear_model/logistic.py:758: ConvergenceWarning: lbfgs failed to converge. Increase the number of iterations.\n",
      "  \"of iterations.\", ConvergenceWarning)\n",
      "/anaconda3/lib/python3.7/site-packages/sklearn/linear_model/logistic.py:758: ConvergenceWarning: lbfgs failed to converge. Increase the number of iterations.\n",
      "  \"of iterations.\", ConvergenceWarning)\n",
      "/anaconda3/lib/python3.7/site-packages/sklearn/linear_model/logistic.py:758: ConvergenceWarning: lbfgs failed to converge. Increase the number of iterations.\n",
      "  \"of iterations.\", ConvergenceWarning)\n",
      "/anaconda3/lib/python3.7/site-packages/sklearn/linear_model/logistic.py:758: ConvergenceWarning: lbfgs failed to converge. Increase the number of iterations.\n",
      "  \"of iterations.\", ConvergenceWarning)\n",
      "/anaconda3/lib/python3.7/site-packages/sklearn/linear_model/logistic.py:758: ConvergenceWarning: lbfgs failed to converge. Increase the number of iterations.\n",
      "  \"of iterations.\", ConvergenceWarning)\n"
     ]
    }
   ],
   "source": [
    "LR_start = time.time()\n",
    "\n",
    "LR= LogisticRegressionCV(cv=10,random_state=42).fit(X_train, y_train)\n",
    "\n",
    "LR_end = time.time()\n",
    "\n",
    "\n",
    "#print('LR--The Training F1 score of the best model is : {}'.format(LR))\n",
    "#print('LR--The Training best parameters of model are : {}'.format(GB_Best_Param))\n",
    "print('LR--Get Training the best model')\n",
    "print(LR_end - LR_start)"
   ]
  },
  {
   "cell_type": "code",
   "execution_count": 37,
   "metadata": {},
   "outputs": [
    {
     "name": "stdout",
     "output_type": "stream",
     "text": [
      "The Accuracy of Model in Valid data is 0.8324022346368715\n",
      "The F1-Score of Model in Valid data is 0.8231225296442688\n"
     ]
    }
   ],
   "source": [
    "LR_predict = LR.predict(X_valid)\n",
    "LR_acc = accuracy_score(y_valid, LR_predict)\n",
    "LR_F1_Score = f1_score(y_valid, LR_predict, average='macro')\n",
    "\n",
    "print('The Accuracy of Model in Valid data is {}'.format(LR_acc))\n",
    "print('The F1-Score of Model in Valid data is {}'.format(LR_F1_Score))\n"
   ]
  },
  {
   "cell_type": "code",
   "execution_count": 38,
   "metadata": {},
   "outputs": [
    {
     "name": "stdout",
     "output_type": "stream",
     "text": [
      "The Accuracy of Model in Test data is 0.7559808612440191\n"
     ]
    }
   ],
   "source": [
    "LR_predict_gt = LR.predict(test_x_all)\n",
    "\n",
    "print('The Accuracy of Model in Test data is {}'.format(accuracy_score(test_y_all, LR_predict_gt)))\n",
    "\n"
   ]
  },
  {
   "cell_type": "code",
   "execution_count": 54,
   "metadata": {},
   "outputs": [],
   "source": [
    "fpr_LR, tpr_LR, thresholds_LR = roc_curve(test_y_all, LR_predict_gt)"
   ]
  },
  {
   "cell_type": "code",
   "execution_count": 252,
   "metadata": {},
   "outputs": [
    {
     "data": {
      "image/png": "[encoded data removed]",
      "text/plain": [
       "<Figure size 432x288 with 1 Axes>"
      ]
     },
     "metadata": {
      "needs_background": "light"
     },
     "output_type": "display_data"
    }
   ],
   "source": [
    "# import some data to play with\n",
    "nd = train_x_all.values\n",
    "X = nd[:,[11,5]]  # we only take the first two features.\n",
    "Y = train_y_all.values\n",
    "\n",
    "logreg = LogisticRegressionCV(cv=10)\n",
    "\n",
    "# Create an instance of Logistic Regression Classifier and fit the data.\n",
    "logreg.fit(X, Y)\n",
    "x_min, x_max = X[:,0].min() - 1, X[:,0].max() + 1\n",
    "y_min, y_max = X[:,1].min() - 1, X[:,1].max() + 1\n",
    "xx, yy = np.meshgrid(np.arange(x_min, x_max,0.1),\n",
    "                     np.arange(y_min,y_max, 0.1))\n",
    "Z = logreg.predict(np.c_[xx.ravel(), yy.ravel()])\n",
    "Z = Z.reshape(xx.shape)\n",
    "plt.plot()\n",
    "plt.contourf(xx, yy, Z, alpha=0.4, cmap = plt.cm.RdYlBu)\n",
    "plt.scatter(X[:, 0], X[:, 1], c=Y,  cmap = plt.cm.brg)\n",
    "plt.title(\"Logistic Regression\")\n",
    "plt.xlabel(\"FamilyN\")\n",
    "plt.ylabel(\"Fare\")\n",
    "plt.legend(Y)\n",
    "plt.show()"
   ]
  },
  {
   "cell_type": "markdown",
   "metadata": {},
   "source": [
    "### 3.2 RandomForest"
   ]
  },
  {
   "cell_type": "markdown",
   "metadata": {},
   "source": [
    "###### 3.2.1 Start from decision tree"
   ]
  },
  {
   "cell_type": "code",
   "execution_count": 234,
   "metadata": {},
   "outputs": [
    {
     "name": "stdout",
     "output_type": "stream",
     "text": [
      "DCT--The Training F1 score of the best model is : 0.8188202247191011\n",
      "DCT--The Training best parameters of model are : {'criterion': 'entropy', 'max_depth': 5}\n",
      "DCT--Get Training the best model\n",
      "1.711216926574707\n"
     ]
    },
    {
     "name": "stderr",
     "output_type": "stream",
     "text": [
      "/anaconda3/lib/python3.7/site-packages/sklearn/model_selection/_search.py:841: DeprecationWarning: The default of the `iid` parameter will change from True to False in version 0.22 and will be removed in 0.24. This will change numeric results when test-set sizes are unequal.\n",
      "  DeprecationWarning)\n"
     ]
    }
   ],
   "source": [
    "DCT_start = time.time()\n",
    "\n",
    "DCT = DecisionTreeClassifier(random_state=42)\n",
    "DCT_Parameter = {'criterion':['entropy','gini'],'max_depth':np.arange(5,20,1)}\n",
    "DCT_GV = GridSearchCV(DCT, DCT_Parameter, cv = 10).fit(X_train, y_train)\n",
    "DCT_Best_F1 = DCT_GV.best_score_\n",
    "DCT_Best_Param = DCT_GV.best_params_\n",
    "DCT_Best_Model = DCT_GV.best_estimator_\n",
    "\n",
    "DCT_end = time.time()\n",
    "\n",
    "print('DCT--The Training F1 score of the best model is : {}'.format(DCT_Best_F1))\n",
    "print('DCT--The Training best parameters of model are : {}'.format(DCT_Best_Param))\n",
    "print('DCT--Get Training the best model')\n",
    "print(DCT_end - DCT_start)\n"
   ]
  },
  {
   "cell_type": "code",
   "execution_count": 235,
   "metadata": {},
   "outputs": [
    {
     "name": "stdout",
     "output_type": "stream",
     "text": [
      "The Accuracy of Model in Test data is 0.784688995215311\n"
     ]
    }
   ],
   "source": [
    "DCT_predict_gt = DCT_Best_Model.predict(test_x_all)\n",
    "\n",
    "print('The Accuracy of Model in Test data is {}'.format(accuracy_score(test_y_all, DCT_predict_gt)))"
   ]
  },
  {
   "cell_type": "code",
   "execution_count": 17,
   "metadata": {},
   "outputs": [
    {
     "name": "stdout",
     "output_type": "stream",
     "text": [
      "Visible tree plot saved as pdf.\n"
     ]
    }
   ],
   "source": [
    "tree = DecisionTreeClassifier(criterion='entropy',max_depth=18,random_state=0)\n",
    "tree.fit(X_train, y_train)\n",
    "dot_data = StringIO()\n",
    "export_graphviz(tree,out_file = dot_data,filled=True,rounded=True,feature_names=X_train.columns.values.tolist(),class_names = ['0', '1'],special_characters=True)\n",
    "graph = pydotplus.graph_from_dot_data(dot_data.getvalue())\n",
    "graph.write_png(\"./Tree.png\")\n",
    "print('Visible tree plot saved as png.')"
   ]
  },
  {
   "cell_type": "code",
   "execution_count": 44,
   "metadata": {},
   "outputs": [],
   "source": [
    "def Learning_Process(X, y):\n",
    "    \n",
    "    # Create 10 cross-validation sets for training and testing\n",
    "    cv = ShuffleSplit(n_splits = 10, test_size = 0.2, random_state = 0)\n",
    "\n",
    "\n",
    "    # Generate the training set sizes increasing by 50\n",
    "    train_sizes = np.rint(np.linspace(1, X.shape[0]*0.8 - 1, 9)).astype(int)\n",
    "\n",
    "    # Create the figure window\n",
    "    fig = plt.figure(figsize=(10,7))\n",
    "\n",
    "    # Create three different models based on max_depth\n",
    "    for k, depth in enumerate([1,3,6,10]):\n",
    "        \n",
    "        # Create a Decision tree regressor at max_depth = depth\n",
    "        regressor = RandomForestClassifier(max_depth = depth)\n",
    "\n",
    "        # Calculate the training and testing scores\n",
    "        sizes, train_scores, valid_scores = learning_curve(regressor, X, y, \\\n",
    "            cv = cv, train_sizes = train_sizes, scoring = 'f1')\n",
    "        \n",
    "        # Find the mean and standard deviation for smoothing\n",
    "        train_std = np.std(train_scores, axis = 1)\n",
    "        train_mean = np.mean(train_scores, axis = 1)\n",
    "        valid_std = np.std(valid_scores, axis = 1)\n",
    "        valid_mean = np.mean(valid_scores, axis = 1)\n",
    "\n",
    "        # Subplot the learning curve \n",
    "        ax = fig.add_subplot(2, 2, k+1)\n",
    "        ax.plot(sizes, train_mean, 'o-', color = 'r', label = 'Training Score')\n",
    "        ax.plot(sizes, valid_mean, 'o-', color = 'g', label = 'Validation Score')\n",
    "        ax.fill_between(sizes, train_mean - train_std, \\\n",
    "            train_mean + train_std, alpha = 0.15, color = 'r')\n",
    "        ax.fill_between(sizes, valid_mean - valid_std, \\\n",
    "            valid_mean + valid_std, alpha = 0.15, color = 'g')\n",
    "        \n",
    "        # Labels\n",
    "        ax.set_title('max_depth = %s'%(depth))\n",
    "        ax.set_xlabel('Number of Training Points')\n",
    "        ax.set_ylabel('f1_score')\n",
    "        ax.set_xlim([0, X.shape[0]*0.8])\n",
    "        ax.set_ylim([-0.05, 1.05])\n",
    "    \n",
    "    # Visual aesthetics\n",
    "    ax.legend(bbox_to_anchor=(1.05, 2.05), loc='lower left', borderaxespad = 0.)\n",
    "    fig.suptitle('Random Forest classifier Learning Performances', fontsize = 16, y = 1.03)\n",
    "    fig.tight_layout()\n",
    "    fig.show()\n",
    "    \n",
    "def Model_Complexity(X, y):\n",
    "    \n",
    "    # Create 10 cross-validation sets for training and testing\n",
    "    cv = ShuffleSplit(n_splits = 10, test_size = 0.2, random_state = 0)\n",
    "\n",
    "    # Vary the max_depth parameter from 1 to 10\n",
    "    #max_depth = np.arange(1,30)\n",
    "    n_estimators = np.arange(1,30)\n",
    "\n",
    "    # Calculate the training and testing scores\n",
    "    train_scores, valid_scores = validation_curve(RandomForestClassifier(max_depth=14), X, y, \\\n",
    "        param_name = \"n_estimators\", param_range = n_estimators, cv = cv, scoring = 'f1')\n",
    "\n",
    "    # Find the mean and standard deviation for smoothing\n",
    "    train_mean = np.mean(train_scores, axis=1)\n",
    "    train_std = np.std(train_scores, axis=1)\n",
    "    valid_mean = np.mean(valid_scores, axis=1)\n",
    "    valid_std = np.std(valid_scores, axis=1)\n",
    "\n",
    "    # Plot the validation curve\n",
    "    plt.figure(figsize=(7, 5))\n",
    "    plt.title('Random Forest classifier Complexity Performance')\n",
    "    plt.plot(n_estimators, train_mean, 'o-', color = 'r', label = 'Training Score')\n",
    "    plt.plot(n_estimators, valid_mean, 'o-', color = 'g', label = 'Validation Score')\n",
    "    plt.fill_between(n_estimators, train_mean - train_std, \\\n",
    "        train_mean + train_std, alpha = 0.15, color = 'r')\n",
    "    plt.fill_between(n_estimators, valid_mean - valid_std, \\\n",
    "        valid_mean + valid_std, alpha = 0.15, color = 'g')\n",
    "    \n",
    "    # Visual aesthetics\n",
    "    plt.legend(loc = 'lower right')\n",
    "    plt.xlabel('Number-OF-estimators')\n",
    "    plt.ylabel('f1_score')\n",
    "    plt.ylim([-0.05,1.05])\n",
    "    plt.show()"
   ]
  },
  {
   "cell_type": "code",
   "execution_count": 27,
   "metadata": {},
   "outputs": [
    {
     "name": "stdout",
     "output_type": "stream",
     "text": [
      "RDFC--The Training F1 score of the best model is : 0.8441011235955056\n",
      "RDFC--The Training best parameters of model are : {'max_depth': 9, 'n_estimators': 12}\n",
      "RDFC--Get Training the best model\n",
      "47.45237708091736\n"
     ]
    },
    {
     "name": "stderr",
     "output_type": "stream",
     "text": [
      "/anaconda3/lib/python3.7/site-packages/sklearn/model_selection/_search.py:841: DeprecationWarning: The default of the `iid` parameter will change from True to False in version 0.22 and will be removed in 0.24. This will change numeric results when test-set sizes are unequal.\n",
      "  DeprecationWarning)\n"
     ]
    }
   ],
   "source": [
    "RDFC_start = time.time()\n",
    "\n",
    "RDFC = RandomForestClassifier(criterion = 'entropy',random_state=43)\n",
    "RDFC_Parameter = {'n_estimators':np.arange(5,20,1),'max_depth':np.arange(5,20,1)}\n",
    "RDFC_GV = GridSearchCV(RDFC, RDFC_Parameter, cv = 10).fit(X_train, y_train)\n",
    "RDFC_Best_F1 = RDFC_GV.best_score_\n",
    "RDFC_Best_Param = RDFC_GV.best_params_\n",
    "RDFC_Best_Model = RDFC_GV.best_estimator_\n",
    "\n",
    "RDFC_end = time.time()\n",
    "\n",
    "print('RDFC--The Training F1 score of the best model is : {}'.format(RDFC_Best_F1))\n",
    "print('RDFC--The Training best parameters of model are : {}'.format(RDFC_Best_Param))\n",
    "print('RDFC--Get Training the best model')\n",
    "print(RDFC_end - RDFC_start)"
   ]
  },
  {
   "cell_type": "code",
   "execution_count": 28,
   "metadata": {},
   "outputs": [
    {
     "name": "stdout",
     "output_type": "stream",
     "text": [
      "The Accuracy of Model in Valid data is 0.8435754189944135\n",
      "The F1-Score of Model in Valid data is 0.8297554347826087\n"
     ]
    }
   ],
   "source": [
    "RDFC_predict = RDFC_Best_Model.predict(X_valid)\n",
    "RDFC_acc = accuracy_score(y_valid, RDFC_predict)\n",
    "RDFC_F1_Score = f1_score(y_valid, RDFC_predict, average='macro')\n",
    "\n",
    "print('The Accuracy of Model in Valid data is {}'.format(RDFC_acc))\n",
    "print('The F1-Score of Model in Valid data is {}'.format(RDFC_F1_Score))"
   ]
  },
  {
   "cell_type": "code",
   "execution_count": 29,
   "metadata": {},
   "outputs": [
    {
     "name": "stdout",
     "output_type": "stream",
     "text": [
      "The Accuracy of Model in Test data is 0.7655502392344498\n",
      "The F1 of Model in Test data is 0.7459880447453928\n"
     ]
    }
   ],
   "source": [
    "RF_predict_gt = RDFC_Best_Model.predict(test_x_all)\n",
    "\n",
    "\n",
    "print('The Accuracy of Model in Test data is {}'.format(accuracy_score(test_y_all, RF_predict_gt)))\n",
    "print('The F1 of Model in Test data is {}'.format(f1_score(test_y_all, RF_predict_gt,average='macro')))"
   ]
  },
  {
   "cell_type": "code",
   "execution_count": 55,
   "metadata": {},
   "outputs": [],
   "source": [
    "fpr_RF, tpr_RF, thresholds_RF = roc_curve(test_y_all, RF_predict_gt)"
   ]
  },
  {
   "cell_type": "code",
   "execution_count": 148,
   "metadata": {},
   "outputs": [
    {
     "name": "stdout",
     "output_type": "stream",
     "text": [
      "(418,)\n",
      "(418,)\n"
     ]
    },
    {
     "data": {
      "text/plain": [
       "array([[210,  50],\n",
       "       [ 52, 106]])"
      ]
     },
     "execution_count": 148,
     "metadata": {},
     "output_type": "execute_result"
    }
   ],
   "source": [
    "print(RF_predict_gt.shape)\n",
    "print(test_y_all.shape)\n",
    "\n",
    "confusion_matrix(test_y_all,RF_predict_gt)"
   ]
  },
  {
   "cell_type": "code",
   "execution_count": 49,
   "metadata": {},
   "outputs": [],
   "source": [
    "fi = (RDFC_Best_Model.feature_importances_).tolist()\n",
    "cf = X_train.columns.values.tolist()"
   ]
  },
  {
   "cell_type": "code",
   "execution_count": 50,
   "metadata": {},
   "outputs": [],
   "source": [
    "total = pd.DataFrame(fi,cf)"
   ]
  },
  {
   "cell_type": "code",
   "execution_count": 51,
   "metadata": {},
   "outputs": [
    {
     "data": {
      "text/html": [
       "<div>\n",
       "<style scoped>\n",
       "    .dataframe tbody tr th:only-of-type {\n",
       "        vertical-align: middle;\n",
       "    }\n",
       "\n",
       "    .dataframe tbody tr th {\n",
       "        vertical-align: top;\n",
       "    }\n",
       "\n",
       "    .dataframe thead th {\n",
       "        text-align: right;\n",
       "    }\n",
       "</style>\n",
       "<table border=\"1\" class=\"dataframe\">\n",
       "  <thead>\n",
       "    <tr style=\"text-align: right;\">\n",
       "      <th></th>\n",
       "      <th>Pclass</th>\n",
       "      <th>Age</th>\n",
       "      <th>Fare</th>\n",
       "      <th>FamilyN</th>\n",
       "      <th>Alone</th>\n",
       "      <th>Sex_label</th>\n",
       "      <th>Eb_label</th>\n",
       "      <th>CW_label</th>\n",
       "      <th>AgeR_label</th>\n",
       "      <th>FareR_label</th>\n",
       "      <th>Ticket_label</th>\n",
       "    </tr>\n",
       "  </thead>\n",
       "  <tbody>\n",
       "    <tr>\n",
       "      <th>0</th>\n",
       "      <td>0.088169</td>\n",
       "      <td>0.150655</td>\n",
       "      <td>0.189328</td>\n",
       "      <td>0.068778</td>\n",
       "      <td>0.018533</td>\n",
       "      <td>0.199124</td>\n",
       "      <td>0.030913</td>\n",
       "      <td>0.122107</td>\n",
       "      <td>0.041749</td>\n",
       "      <td>0.048243</td>\n",
       "      <td>0.0424</td>\n",
       "    </tr>\n",
       "  </tbody>\n",
       "</table>\n",
       "</div>"
      ],
      "text/plain": [
       "     Pclass       Age      Fare   FamilyN     Alone  Sex_label  Eb_label  \\\n",
       "0  0.088169  0.150655  0.189328  0.068778  0.018533   0.199124  0.030913   \n",
       "\n",
       "   CW_label  AgeR_label  FareR_label  Ticket_label  \n",
       "0  0.122107    0.041749     0.048243        0.0424  "
      ]
     },
     "execution_count": 51,
     "metadata": {},
     "output_type": "execute_result"
    }
   ],
   "source": [
    "total.T"
   ]
  },
  {
   "cell_type": "code",
   "execution_count": 45,
   "metadata": {},
   "outputs": [
    {
     "data": {
      "image/png": "[encoded data removed]",
      "text/plain": [
       "<Figure size 504x360 with 1 Axes>"
      ]
     },
     "metadata": {
      "needs_background": "light"
     },
     "output_type": "display_data"
    }
   ],
   "source": [
    "Model_Complexity(X_train, y_train)"
   ]
  },
  {
   "cell_type": "code",
   "execution_count": 152,
   "metadata": {},
   "outputs": [
    {
     "name": "stdout",
     "output_type": "stream",
     "text": [
      "Confusion matrix, without normalization\n",
      "[[210  50]\n",
      " [ 52 106]]\n"
     ]
    },
    {
     "data": {
      "image/png": "[encoded data removed]",
      "text/plain": [
       "<Figure size 432x288 with 2 Axes>"
      ]
     },
     "metadata": {
      "needs_background": "light"
     },
     "output_type": "display_data"
    }
   ],
   "source": [
    "def plot_confusion_matrix(cm, classes,\n",
    "                          normalize=False,\n",
    "                          title='Confusion matrix',\n",
    "                          cmap=plt.cm.Blues):\n",
    "    \"\"\"\n",
    "    This function prints and plots the confusion matrix.\n",
    "    Normalization can be applied by setting `normalize=True`.\n",
    "    \"\"\"\n",
    "    if normalize:\n",
    "        cm = cm.astype('float') / cm.sum(axis=1)[:, np.newaxis]\n",
    "        print(\"Normalized confusion matrix\")\n",
    "    else:\n",
    "        print('Confusion matrix, without normalization')\n",
    "\n",
    "    print(cm)\n",
    "\n",
    "    plt.imshow(cm, interpolation='nearest', cmap=cmap)\n",
    "    plt.title(title)\n",
    "    plt.colorbar()\n",
    "    tick_marks = np.arange(len(classes))\n",
    "    plt.xticks(tick_marks, classes, rotation=45)\n",
    "    plt.yticks(tick_marks, classes)\n",
    "\n",
    "    fmt = '.2f' if normalize else 'd'\n",
    "    thresh = cm.max() / 2.\n",
    "    for i, j in itertools.product(range(cm.shape[0]), range(cm.shape[1])):\n",
    "        plt.text(j, i, format(cm[i, j], fmt),\n",
    "                 horizontalalignment=\"center\",\n",
    "                 color=\"white\" if cm[i, j] > thresh else \"black\")\n",
    "\n",
    "    plt.ylabel('True label')\n",
    "    plt.xlabel('Predicted label')\n",
    "    plt.tight_layout()\n",
    "\n",
    "\n",
    "# Compute confusion matrix\n",
    "class_names = X_train.columns.values.tolist()\n",
    "cnf_matrix = confusion_matrix(test_y_all, RF_predict_gt)\n",
    "np.set_printoptions(precision=2)\n",
    "\n",
    "# Plot non-normalized confusion matrix\n",
    "plt.figure()\n",
    "plot_confusion_matrix(cnf_matrix, classes=['Survived','Dead'],\n",
    "                      title='Confusion matrix')\n",
    "\n",
    "plt.show()"
   ]
  },
  {
   "cell_type": "markdown",
   "metadata": {},
   "source": [
    "###### 3.3 xgboost"
   ]
  },
  {
   "cell_type": "code",
   "execution_count": 40,
   "metadata": {},
   "outputs": [
    {
     "name": "stdout",
     "output_type": "stream",
     "text": [
      "XGB--Get Training the best model\n",
      "0.11943507194519043\n"
     ]
    }
   ],
   "source": [
    "XGB_start = time.time()\n",
    "\n",
    "XGB = xgb.XGBClassifier(booster='gbtree',nthread=10,silent=1,objective='binary:logistic',\n",
    "                        min_child_weight=0.03,learning_rate=0.0003,n_estimators=80,max_depth=5,gamma=0.0001).fit(X_train_xg, y_train_xg)\n",
    "\n",
    "#XGB_Parameter = {'learning_rate':[0.01,0.03],'n_estimators':np.arange(10,200,10),\n",
    "#                'max_depth':np.arange(0,10,1),'gamma':np.arange(0,8,0.01)}\n",
    "#XGB_GV = GridSearchCV(XGB,XGB_Parameter).fit(X_train_xg, y_train_xg)\n",
    "#XGB_Best_F1 = XGB_GV.best_score_\n",
    "#XGB_Best_Param = XGB_GV.best_params_\n",
    "#XGB_Best_Model = XGB_GV.best_estimator_\n",
    "\n",
    "XGB_end = time.time()\n",
    "\n",
    "#print('XGB--The Training F1 score of the best model is : {}'.format(XGB_Best_F1))\n",
    "#print('XGB--The Training best parameters of model are : {}'.format(XGB_Best_Param))\n",
    "print('XGB--Get Training the best model')\n",
    "print(XGB_end - XGB_start)"
   ]
  },
  {
   "cell_type": "code",
   "execution_count": 41,
   "metadata": {},
   "outputs": [
    {
     "name": "stdout",
     "output_type": "stream",
     "text": [
      "The Accuracy of Model in Test data is 0.8379888268156425\n",
      "The F1-Score of Model in Test data is 0.8142422615852567\n"
     ]
    }
   ],
   "source": [
    "XGB_predict = XGB.predict(X_valid_xg)\n",
    "XGB_acc = accuracy_score(y_valid_xg, XGB_predict)\n",
    "XGB_F1_Score = f1_score(y_valid_xg, XGB_predict, average='macro')\n",
    "\n",
    "print('The Accuracy of Model in Test data is {}'.format(XGB_acc))\n",
    "print('The F1-Score of Model in Test data is {}'.format(XGB_F1_Score))"
   ]
  },
  {
   "cell_type": "code",
   "execution_count": 42,
   "metadata": {},
   "outputs": [
    {
     "name": "stdout",
     "output_type": "stream",
     "text": [
      "The Accuracy of Model in Test data is 0.7990430622009569\n"
     ]
    }
   ],
   "source": [
    "XGB_predict_gt = XGB.predict(np.array(test_x_all))\n",
    "\n",
    "print('The Accuracy of Model in Test data is {}'.format(accuracy_score(np.array(test_y_all), XGB_predict_gt)))"
   ]
  },
  {
   "cell_type": "code",
   "execution_count": 56,
   "metadata": {},
   "outputs": [],
   "source": [
    "fpr_XG, tpr_XG, thresholds_XG = roc_curve(test_y_all, XGB_predict_gt)"
   ]
  },
  {
   "cell_type": "markdown",
   "metadata": {},
   "source": [
    "###### 3.4 SVM"
   ]
  },
  {
   "cell_type": "code",
   "execution_count": 45,
   "metadata": {},
   "outputs": [
    {
     "name": "stdout",
     "output_type": "stream",
     "text": [
      "DCT--The Training F1 score of the best model is : 0.7668539325842697\n",
      "DCT--The Training best parameters of model are : {'C': 30}\n",
      "DCT--Get Training the best model\n",
      "27.667280912399292\n"
     ]
    },
    {
     "name": "stderr",
     "output_type": "stream",
     "text": [
      "/anaconda3/lib/python3.7/site-packages/sklearn/model_selection/_search.py:841: DeprecationWarning: The default of the `iid` parameter will change from True to False in version 0.22 and will be removed in 0.24. This will change numeric results when test-set sizes are unequal.\n",
      "  DeprecationWarning)\n"
     ]
    }
   ],
   "source": [
    "SVM_start = time.time()\n",
    "\n",
    "SVM = SVC(gamma=0.001,probability=True)\n",
    "SVM_Parameter = {'C':np.arange(5,35,1)}\n",
    "SVM_GV = GridSearchCV(SVM, SVM_Parameter, cv = 10).fit(X_train, y_train)\n",
    "SVM_Best_F1 = SVM_GV.best_score_\n",
    "SVM_Best_Param = SVM_GV.best_params_\n",
    "SVM_Best_Model = SVM_GV.best_estimator_\n",
    "\n",
    "SVM_end = time.time()\n",
    "\n",
    "print('SVM--The Training F1 score of the best model is : {}'.format(SVM_Best_F1))\n",
    "print('SVM--The Training best parameters of model are : {}'.format(SVM_Best_Param))\n",
    "print('SVM--Get Training the best model')\n",
    "print(SVM_end - SVM_start)\n"
   ]
  },
  {
   "cell_type": "code",
   "execution_count": 46,
   "metadata": {},
   "outputs": [
    {
     "name": "stdout",
     "output_type": "stream",
     "text": [
      "The Accuracy of Model in Test data is 0.7081339712918661\n"
     ]
    }
   ],
   "source": [
    "SVM_predict_gt = SVM_Best_Model.predict(test_x_all)\n",
    "\n",
    "print('The Accuracy of Model in Test data is {}'.format(accuracy_score(test_y_all, SVM_predict_gt)))"
   ]
  },
  {
   "cell_type": "code",
   "execution_count": 57,
   "metadata": {},
   "outputs": [],
   "source": [
    "fpr_SVM, tpr_SVM, thresholds_SVM = roc_curve(test_y_all, SVM_predict_gt)"
   ]
  },
  {
   "cell_type": "markdown",
   "metadata": {},
   "source": [
    "- Voting"
   ]
  },
  {
   "cell_type": "code",
   "execution_count": 47,
   "metadata": {},
   "outputs": [
    {
     "name": "stdout",
     "output_type": "stream",
     "text": [
      "5.929737091064453\n",
      "The Accuracy of Model in Test data is 0.8156424581005587\n"
     ]
    }
   ],
   "source": [
    "VOTE_start = time.time()\n",
    "\n",
    "VOTE = VotingClassifier(estimators=[('rfc', RDFC_Best_Model),('svc',SVM_Best_Model),('LR', LR),('xgboost',XGB)], voting='soft', n_jobs=8)\n",
    "VOTE = VOTE.fit(X_train, y_train)\n",
    "\n",
    "VOTE_end = time.time()\n",
    "\n",
    "print(VOTE_end - VOTE_start)\n",
    "\n",
    "VOTE_predict = VOTE.predict(X_valid)\n",
    "VOTE_acc = accuracy_score(y_valid, VOTE_predict)\n",
    "#VOTE_F1_Score = f1_score(y_valid, VOTE_acc, average='macro')\n",
    "\n",
    "print('The Accuracy of Model in Test data is {}'.format(VOTE_acc))\n",
    "#print('The F1-Score of Model in Test data is {}'.format(VOTE_F1_Score))"
   ]
  },
  {
   "cell_type": "code",
   "execution_count": 48,
   "metadata": {},
   "outputs": [
    {
     "name": "stdout",
     "output_type": "stream",
     "text": [
      "The Accuracy of Model in Test data is 0.7559808612440191\n"
     ]
    }
   ],
   "source": [
    "VOTE_predict_gt = VOTE.predict(test_x_all)\n",
    "\n",
    "print('The Accuracy of Model in Test data is {}'.format(accuracy_score(test_y_all, VOTE_predict_gt)))"
   ]
  },
  {
   "cell_type": "code",
   "execution_count": 58,
   "metadata": {},
   "outputs": [],
   "source": [
    "fpr_VOTE, tpr_VOTE, thresholds_VOTE = roc_curve(test_y_all, VOTE_predict_gt)"
   ]
  },
  {
   "cell_type": "code",
   "execution_count": 62,
   "metadata": {},
   "outputs": [
    {
     "name": "stdout",
     "output_type": "stream",
     "text": [
      "0.7479795520934762\n",
      "0.7020691333982474\n",
      "0.7420155793573515\n",
      "0.7467380720545278\n",
      "0.7627312560856865\n"
     ]
    }
   ],
   "source": [
    "print(auc(fpr_VOTE, tpr_VOTE))\n",
    "print(auc(fpr_SVM, tpr_SVM))\n",
    "print(auc(fpr_RF, tpr_RF))\n",
    "print(auc(fpr_LR, tpr_LR))\n",
    "print(auc(fpr_XG, tpr_XG))"
   ]
  },
  {
   "cell_type": "code",
   "execution_count": 64,
   "metadata": {},
   "outputs": [
    {
     "data": {
      "image/png": "[encoded data removed]",
      "text/plain": [
       "<Figure size 432x288 with 1 Axes>"
      ]
     },
     "metadata": {
      "needs_background": "light"
     },
     "output_type": "display_data"
    }
   ],
   "source": [
    "plt.plot(fpr_VOTE, tpr_VOTE, color='red', label='VOTE_ROC:0.75')\n",
    "plt.plot(fpr_SVM, tpr_SVM, color='blue', label='SVM_ROC:0.70')\n",
    "plt.plot(fpr_RF, tpr_RF, color='green', label='RFC_ROC:0.74')\n",
    "plt.plot(fpr_LR, tpr_LR, color='grey', label='LR_ROC:0.75')\n",
    "plt.plot(fpr_XG, tpr_XG, color='skyblue', label='XG_ROC:0.76')\n",
    "plt.legend()\n",
    "\n",
    "plt.xlabel('FRR')\n",
    "plt.ylabel('TPR')\n",
    "plt.show()"
   ]
  },
  {
   "cell_type": "markdown",
   "metadata": {},
   "source": [
    "- JustForest"
   ]
  },
  {
   "cell_type": "code",
   "execution_count": 9,
   "metadata": {},
   "outputs": [],
   "source": [
    "def easy_accuracy(truth, pred):\n",
    "    \n",
    "    if len(truth) == len(pred):\n",
    "        \n",
    "        return \"Predictions have an accuracy of {:.2f}%.\".format((truth == pred).mean()*100)\n",
    "    \n",
    "    else:\n",
    "        \n",
    "        return \"Number of predictions does not match number of outcomes!\""
   ]
  },
  {
   "cell_type": "code",
   "execution_count": 15,
   "metadata": {},
   "outputs": [
    {
     "name": "stdout",
     "output_type": "stream",
     "text": [
      "Predictions have an accuracy of 61.62%.\n",
      "Predictions have an accuracy of 38.38%.\n"
     ]
    }
   ],
   "source": [
    "#the proportion of people: survived or not survived\n",
    "Not_Survived = []\n",
    "Survived = []\n",
    "\n",
    "for _, passenger in raw_x_all.iterrows():\n",
    "    Not_Survived.append(0)\n",
    "    Survived.append(1)\n",
    "\n",
    "Not_Survived = pd.Series(Not_Survived)\n",
    "Survived = pd.Series(Survived)\n",
    "print (easy_accuracy(raw_y_all, Not_Survived))\n",
    "print (easy_accuracy(raw_y_all, Survived))"
   ]
  },
  {
   "cell_type": "code",
   "execution_count": 26,
   "metadata": {
    "scrolled": true
   },
   "outputs": [
    {
     "name": "stdout",
     "output_type": "stream",
     "text": [
      "Predictions have an accuracy of 83.16%.\n"
     ]
    }
   ],
   "source": [
    "def predictions_4(data):\n",
    "    \n",
    "    # Yet another solution, using features \"Embarked\" (which seemingly unrelavant...)\n",
    "    pred = []\n",
    "    for _, p in data.iterrows():\n",
    "\n",
    "        if p[\"Sex\"] == \"female\":\n",
    "            if p[\"Pclass\"] == 1 or p[\"Pclass\"] == 2:\n",
    "                pred.append(1)\n",
    "            else:\n",
    "                if p[\"Embarked\"] == \"C\" or p[\"Embarked\"] == \"Q\":\n",
    "                    pred.append(1)\n",
    "                else:\n",
    "                    pred.append(0)        \n",
    "        else:\n",
    "            if p['Age'] <= 10:\n",
    "                if p['Pclass'] < 3:\n",
    "                    pred.append(1)\n",
    "                else:\n",
    "                    if p['SibSp'] < 2:\n",
    "                        pred.append(1)\n",
    "                    else:\n",
    "                        pred.append(0)\n",
    "            else:\n",
    "                pred.append(0)\n",
    "                \n",
    "    # Return our predictions\n",
    "    return pd.Series(pred)\n",
    "\n",
    "# Make the predictions\n",
    "pred = predictions_4(raw_x_all)\n",
    "print (accuracy_score(raw_y_all, pred))"
   ]
  },
  {
   "cell_type": "code",
   "execution_count": null,
   "metadata": {},
   "outputs": [],
   "source": [
    "#data_cor = train_raw_data_all.corr()\n",
    "#data_cor.style.background_gradient()\n",
    "#data_cor = train_raw_data_all.corr()\n",
    "#data_cor.style.background_gradient()\n",
    "#sns.pairplot(train_raw_data_all,hue = 'Survived')\n",
    "#tpl = sns.countplot(x=\"Ticket\",data=train_raw_data_all)\n",
    "#tpl = plt.setp(tpl.get_xticklabels(), rotation=90)\n",
    "#train_raw_data_all = pd.get_dummies(train_raw_data_all, columns = [\"Ticket\"], prefix=\"T\")\n",
    "#test_raw_data_all = pd.get_dummies(test_raw_data_all, columns = [\"Ticket\"], prefix=\"T\")\n",
    "\n",
    "#print(train_raw_data_all.shape)\n",
    "#print(test_raw_data_all.shape)\n",
    "#cwpl = sns.countplot(x=\"CallWhat\",data=train_raw_data_all,palette=\"Blues_d\")\n",
    "#cwpl = plt.setp(cwpl.get_xticklabels(), rotation=45)\n",
    "#cwpl = sns.countplot(x=\"CallWhat\",data=train_raw_data_all,palette=\"Blues_d\")\n",
    "#cwpl = plt.setp(cwpl.get_xticklabels(), rotation=0)\n",
    "#data_cor = train_raw_data_all.corr()\n",
    "#data_cor.style.background_gradient()\n",
    "#sns.pairplot(train_raw_data_all,hue = 'Survived')\n",
    "#train_raw_data_all.head()\n",
    "#fig, saxis = plt.subplots(2, 3,figsize=(16,12))\n",
    "\n",
    "#sns.barplot(x = 'Embarked', y = 'Survived', data=train_raw_data_all, ax = saxis[0,0],palette=\"Blues_d\")\n",
    "#sns.barplot(x = 'Pclass', y = 'Survived', order=[1,2,3], data=train_raw_data_all, ax = saxis[0,1],palette=\"Blues_d\")\n",
    "#sns.barplot(x = 'Alone', y = 'Survived', order=[1,0], data=train_raw_data_all, ax = saxis[0,2],palette=\"Blues_d\")\n",
    "\n",
    "#sns.pointplot(x = 'FareR', y = 'Survived',  data=train_raw_data_all, ax = saxis[1,0])\n",
    "#sns.pointplot(x = 'AgeR', y = 'Survived',  data=train_raw_data_all, ax = saxis[1,1])\n",
    "#sns.pointplot(x = 'FamilyN', y = 'Survived', data=train_raw_data_all, ax = saxis[1,2])"
   ]
  }
 ],
 "metadata": {
  "kernelspec": {
   "display_name": "Python 3",
   "language": "python",
   "name": "python3"
  },
  "language_info": {
   "codemirror_mode": {
    "name": "ipython",
    "version": 3
   },
   "file_extension": ".py",
   "mimetype": "text/x-python",
   "name": "python",
   "nbconvert_exporter": "python",
   "pygments_lexer": "ipython3",
   "version": "3.7.0"
  }
 },
 "nbformat": 4,
 "nbformat_minor": 1
}
